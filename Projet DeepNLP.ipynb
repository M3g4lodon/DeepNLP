{
 "cells": [
  {
   "cell_type": "markdown",
   "metadata": {},
   "source": [
    "# Classifier d'articles de presse par CNN\n",
    "\n",
    "## Données\n",
    "- Articles de presse, à retrouver sur ce site https://archive.ics.uci.edu/ml/datasets/News+Aggregator (à ranger dans un dossier ./dataset/)\n",
    "- word2vec entrainé, disponible à l'adresse : https://github.com/mmihaltz/word2vec-GoogleNews-vectors (à ranger en racine)\n"
   ]
  },
  {
   "cell_type": "code",
   "execution_count": 4,
   "metadata": {},
   "outputs": [],
   "source": [
    "import numpy as np # linear algebra\n",
    "import pandas as pd # data processing, CSV file I/O (e.g. pd.read_csv)\n",
    "from sklearn.utils import shuffle\n",
    "import keras\n",
    "from keras.preprocessing.text import Tokenizer\n",
    "from keras.utils import to_categorical\n",
    "from keras.layers import Dense, Input, Flatten, Dropout, Merge\n",
    "from keras.layers import Conv1D, MaxPooling1D, Embedding\n",
    "from keras.layers import LSTM, Bidirectional\n",
    "from keras.models import Model\n",
    "from keras.callbacks import EarlyStopping\n",
    "from keras.regularizers import l2\n",
    "import gensim\n",
    "import nltk\n",
    "from nltk.tokenize import RegexpTokenizer\n",
    "from nltk.corpus import stopwords\n",
    "import re\n",
    "import codecs\n",
    "import matplotlib.pyplot as plt\n",
    "# Input data files are available in the \"../input/\" directory.\n",
    "# For example, running this (by clicking run or pressing Shift+Enter) will list the files in the input directory\n",
    "\n",
    "\n",
    "stop_words = set(stopwords.words('english'))\n",
    "# Any results you write to the current directory are saved as output."
   ]
  },
  {
   "cell_type": "code",
   "execution_count": 5,
   "metadata": {},
   "outputs": [],
   "source": [
    "EMBEDDING_DIM = 300 # how big is each word vector\n",
    "MAX_SEQUENCE_LENGTH = 16 # max number of words in a comment to use\n",
    "N_CLASS= 4"
   ]
  },
  {
   "cell_type": "code",
   "execution_count": 6,
   "metadata": {},
   "outputs": [],
   "source": [
    "word2vec_path = \"GoogleNews-vectors-negative300.bin.gz\"\n",
    "word2vec = gensim.models.KeyedVectors.load_word2vec_format(word2vec_path, binary=True)"
   ]
  },
  {
   "cell_type": "code",
   "execution_count": 7,
   "metadata": {},
   "outputs": [
    {
     "data": {
      "text/html": [
       "<div>\n",
       "<style scoped>\n",
       "    .dataframe tbody tr th:only-of-type {\n",
       "        vertical-align: middle;\n",
       "    }\n",
       "\n",
       "    .dataframe tbody tr th {\n",
       "        vertical-align: top;\n",
       "    }\n",
       "\n",
       "    .dataframe thead th {\n",
       "        text-align: right;\n",
       "    }\n",
       "</style>\n",
       "<table border=\"1\" class=\"dataframe\">\n",
       "  <thead>\n",
       "    <tr style=\"text-align: right;\">\n",
       "      <th></th>\n",
       "      <th>ID</th>\n",
       "      <th>TITLE</th>\n",
       "      <th>URL</th>\n",
       "      <th>PUBLISHER</th>\n",
       "      <th>CATEGORY</th>\n",
       "      <th>STORY</th>\n",
       "      <th>HOSTNAME</th>\n",
       "      <th>TIMESTAMP</th>\n",
       "      <th>tokens</th>\n",
       "    </tr>\n",
       "  </thead>\n",
       "  <tbody>\n",
       "    <tr>\n",
       "      <th>42454</th>\n",
       "      <td>42455</td>\n",
       "      <td>Nvidia and IBM create GPU interconnect for fas...</td>\n",
       "      <td>http://arstechnica.com/information-technology/...</td>\n",
       "      <td>Ars Technica</td>\n",
       "      <td>t</td>\n",
       "      <td>de4qTAfQbvLqgqM-pStScdQpW41YM</td>\n",
       "      <td>arstechnica.com</td>\n",
       "      <td>1395775635770</td>\n",
       "      <td>[nvidia, ibm, create, gpu, interconnect, faste...</td>\n",
       "    </tr>\n",
       "    <tr>\n",
       "      <th>207539</th>\n",
       "      <td>207976</td>\n",
       "      <td>Pfizer underscores UK commitments</td>\n",
       "      <td>http://www.news-journal.com/business/pfizer-un...</td>\n",
       "      <td>Longview News-Journal</td>\n",
       "      <td>b</td>\n",
       "      <td>dueU2W_wo-ReKAMbVHq-P1l6N6SkM</td>\n",
       "      <td>www.news-journal.com</td>\n",
       "      <td>1399969280236</td>\n",
       "      <td>[pfizer, underscores, uk, commitments]</td>\n",
       "    </tr>\n",
       "    <tr>\n",
       "      <th>381405</th>\n",
       "      <td>381866</td>\n",
       "      <td>Rihanna Tweets, Deletes and Denies #FreePalest...</td>\n",
       "      <td>http://www.fashiontimes.com/articles/9813/2014...</td>\n",
       "      <td>Fashion Times</td>\n",
       "      <td>e</td>\n",
       "      <td>dl2knqMR0Y_IXxMC45R48HXMkCpeM</td>\n",
       "      <td>www.fashiontimes.com</td>\n",
       "      <td>1405503283484</td>\n",
       "      <td>[rihanna, tweets, deletes, denies, freepalesti...</td>\n",
       "    </tr>\n",
       "    <tr>\n",
       "      <th>344294</th>\n",
       "      <td>344755</td>\n",
       "      <td>President Obama Warning About Transportation F...</td>\n",
       "      <td>http://www.kaaltv.com/article/stories/S3491963...</td>\n",
       "      <td>KAALtv.com</td>\n",
       "      <td>b</td>\n",
       "      <td>dkJvAKgVDFNVBpMQk6w7kJc0cFhvM</td>\n",
       "      <td>www.kaaltv.com</td>\n",
       "      <td>1404310831381</td>\n",
       "      <td>[president, obama, warning, transportation, fu...</td>\n",
       "    </tr>\n",
       "    <tr>\n",
       "      <th>328655</th>\n",
       "      <td>329116</td>\n",
       "      <td>$8.8M Thursday Night Sets \"Transformers\" Up Fo...</td>\n",
       "      <td>http://blogs.indiewire.com/boxofficeinsider/88...</td>\n",
       "      <td>Indie Wire \\(blog\\)</td>\n",
       "      <td>e</td>\n",
       "      <td>d79g5WRHWWIWfUM2SBHH6Ytl7qvKM</td>\n",
       "      <td>blogs.indiewire.com</td>\n",
       "      <td>1403938063876</td>\n",
       "      <td>[8, 8m, thursday, night, sets, transformers, w...</td>\n",
       "    </tr>\n",
       "  </tbody>\n",
       "</table>\n",
       "</div>"
      ],
      "text/plain": [
       "            ID                                              TITLE  \\\n",
       "42454    42455  Nvidia and IBM create GPU interconnect for fas...   \n",
       "207539  207976                  Pfizer underscores UK commitments   \n",
       "381405  381866  Rihanna Tweets, Deletes and Denies #FreePalest...   \n",
       "344294  344755  President Obama Warning About Transportation F...   \n",
       "328655  329116  $8.8M Thursday Night Sets \"Transformers\" Up Fo...   \n",
       "\n",
       "                                                      URL  \\\n",
       "42454   http://arstechnica.com/information-technology/...   \n",
       "207539  http://www.news-journal.com/business/pfizer-un...   \n",
       "381405  http://www.fashiontimes.com/articles/9813/2014...   \n",
       "344294  http://www.kaaltv.com/article/stories/S3491963...   \n",
       "328655  http://blogs.indiewire.com/boxofficeinsider/88...   \n",
       "\n",
       "                    PUBLISHER CATEGORY                          STORY  \\\n",
       "42454            Ars Technica        t  de4qTAfQbvLqgqM-pStScdQpW41YM   \n",
       "207539  Longview News-Journal        b  dueU2W_wo-ReKAMbVHq-P1l6N6SkM   \n",
       "381405          Fashion Times        e  dl2knqMR0Y_IXxMC45R48HXMkCpeM   \n",
       "344294             KAALtv.com        b  dkJvAKgVDFNVBpMQk6w7kJc0cFhvM   \n",
       "328655    Indie Wire \\(blog\\)        e  d79g5WRHWWIWfUM2SBHH6Ytl7qvKM   \n",
       "\n",
       "                    HOSTNAME      TIMESTAMP  \\\n",
       "42454        arstechnica.com  1395775635770   \n",
       "207539  www.news-journal.com  1399969280236   \n",
       "381405  www.fashiontimes.com  1405503283484   \n",
       "344294        www.kaaltv.com  1404310831381   \n",
       "328655   blogs.indiewire.com  1403938063876   \n",
       "\n",
       "                                                   tokens  \n",
       "42454   [nvidia, ibm, create, gpu, interconnect, faste...  \n",
       "207539             [pfizer, underscores, uk, commitments]  \n",
       "381405  [rihanna, tweets, deletes, denies, freepalesti...  \n",
       "344294  [president, obama, warning, transportation, fu...  \n",
       "328655  [8, 8m, thursday, night, sets, transformers, w...  "
      ]
     },
     "execution_count": 7,
     "metadata": {},
     "output_type": "execute_result"
    }
   ],
   "source": [
    "#http://archive.ics.uci.edu/ml/datasets/News+Aggregator\n",
    "data= pd.read_csv(\"dataset/uci-news-aggregator.csv\")\n",
    "data=shuffle(data)\n",
    "data['TITLE']=data['TITLE'].astype('str')\n",
    "\n",
    "# Standardisation\n",
    "data[\"tokens\"] = data[\"TITLE\"].str.replace(r\"http\\S+\", \"\")\n",
    "data[\"tokens\"] = data[\"tokens\"].str.replace(r\"@\\S+\", \"\")\n",
    "data[\"tokens\"] = data[\"tokens\"].str.replace(r\"[^A-Za-z0-9(),!?@\\'\\`\\\"\\_\\n]\", \" \")\n",
    "data[\"tokens\"] = data[\"tokens\"].str.replace(r\"@\", \"at\")\n",
    "data[\"tokens\"] = data[\"tokens\"].str.lower()\n",
    "\n",
    "# Tokenisation\n",
    "tokenizer = RegexpTokenizer(r'\\w+')\n",
    "data[\"tokens\"] = data['tokens'].apply(tokenizer.tokenize)\n",
    "# delete Stop Words\n",
    "data[\"tokens\"] = data[\"tokens\"].apply(lambda vec: [word for word in vec if word not in stop_words])\n",
    "data.head()\n"
   ]
  },
  {
   "cell_type": "code",
   "execution_count": 8,
   "metadata": {},
   "outputs": [
    {
     "name": "stdout",
     "output_type": "stream",
     "text": [
      "1693\n"
     ]
    }
   ],
   "source": [
    "# Recherche de la phrase la plus longue\n",
    "max_sentence_size = max(data['tokens'].apply(len))\n",
    "print(max_sentence_size)\n",
    "max_sentence=data[data['tokens'].apply(len)==MAX_SEQUENCE_LENGTH]\n",
    "\n"
   ]
  },
  {
   "cell_type": "code",
   "execution_count": 9,
   "metadata": {
    "scrolled": true
   },
   "outputs": [
    {
     "name": "stdout",
     "output_type": "stream",
     "text": [
      "(422418, 9)\n",
      "(422403, 9)\n"
     ]
    }
   ],
   "source": [
    "# bug sur les virgules en données\n",
    "print(data.shape)\n",
    "sum(data['tokens'].apply(len)>MAX_SEQUENCE_LENGTH) # 15 bugs détectés\n",
    "data= data[data['tokens'].apply(len)<=MAX_SEQUENCE_LENGTH]\n",
    "print(data.shape)"
   ]
  },
  {
   "cell_type": "code",
   "execution_count": 10,
   "metadata": {},
   "outputs": [
    {
     "data": {
      "text/html": [
       "<div>\n",
       "<style scoped>\n",
       "    .dataframe tbody tr th:only-of-type {\n",
       "        vertical-align: middle;\n",
       "    }\n",
       "\n",
       "    .dataframe tbody tr th {\n",
       "        vertical-align: top;\n",
       "    }\n",
       "\n",
       "    .dataframe thead th {\n",
       "        text-align: right;\n",
       "    }\n",
       "</style>\n",
       "<table border=\"1\" class=\"dataframe\">\n",
       "  <thead>\n",
       "    <tr style=\"text-align: right;\">\n",
       "      <th></th>\n",
       "      <th>ID</th>\n",
       "      <th>TITLE</th>\n",
       "      <th>URL</th>\n",
       "      <th>PUBLISHER</th>\n",
       "      <th>CATEGORY</th>\n",
       "      <th>STORY</th>\n",
       "      <th>HOSTNAME</th>\n",
       "      <th>TIMESTAMP</th>\n",
       "      <th>tokens</th>\n",
       "    </tr>\n",
       "  </thead>\n",
       "  <tbody>\n",
       "    <tr>\n",
       "      <th>42454</th>\n",
       "      <td>42455</td>\n",
       "      <td>Nvidia and IBM create GPU interconnect for fas...</td>\n",
       "      <td>http://arstechnica.com/information-technology/...</td>\n",
       "      <td>Ars Technica</td>\n",
       "      <td>t</td>\n",
       "      <td>de4qTAfQbvLqgqM-pStScdQpW41YM</td>\n",
       "      <td>arstechnica.com</td>\n",
       "      <td>1395775635770</td>\n",
       "      <td>[nvidia, ibm, create, gpu, interconnect, faste...</td>\n",
       "    </tr>\n",
       "    <tr>\n",
       "      <th>207539</th>\n",
       "      <td>207976</td>\n",
       "      <td>Pfizer underscores UK commitments</td>\n",
       "      <td>http://www.news-journal.com/business/pfizer-un...</td>\n",
       "      <td>Longview News-Journal</td>\n",
       "      <td>b</td>\n",
       "      <td>dueU2W_wo-ReKAMbVHq-P1l6N6SkM</td>\n",
       "      <td>www.news-journal.com</td>\n",
       "      <td>1399969280236</td>\n",
       "      <td>[pfizer, underscores, uk, commitments]</td>\n",
       "    </tr>\n",
       "    <tr>\n",
       "      <th>381405</th>\n",
       "      <td>381866</td>\n",
       "      <td>Rihanna Tweets, Deletes and Denies #FreePalest...</td>\n",
       "      <td>http://www.fashiontimes.com/articles/9813/2014...</td>\n",
       "      <td>Fashion Times</td>\n",
       "      <td>e</td>\n",
       "      <td>dl2knqMR0Y_IXxMC45R48HXMkCpeM</td>\n",
       "      <td>www.fashiontimes.com</td>\n",
       "      <td>1405503283484</td>\n",
       "      <td>[rihanna, tweets, deletes, denies, freepalesti...</td>\n",
       "    </tr>\n",
       "    <tr>\n",
       "      <th>344294</th>\n",
       "      <td>344755</td>\n",
       "      <td>President Obama Warning About Transportation F...</td>\n",
       "      <td>http://www.kaaltv.com/article/stories/S3491963...</td>\n",
       "      <td>KAALtv.com</td>\n",
       "      <td>b</td>\n",
       "      <td>dkJvAKgVDFNVBpMQk6w7kJc0cFhvM</td>\n",
       "      <td>www.kaaltv.com</td>\n",
       "      <td>1404310831381</td>\n",
       "      <td>[president, obama, warning, transportation, fu...</td>\n",
       "    </tr>\n",
       "    <tr>\n",
       "      <th>328655</th>\n",
       "      <td>329116</td>\n",
       "      <td>$8.8M Thursday Night Sets \"Transformers\" Up Fo...</td>\n",
       "      <td>http://blogs.indiewire.com/boxofficeinsider/88...</td>\n",
       "      <td>Indie Wire \\(blog\\)</td>\n",
       "      <td>e</td>\n",
       "      <td>d79g5WRHWWIWfUM2SBHH6Ytl7qvKM</td>\n",
       "      <td>blogs.indiewire.com</td>\n",
       "      <td>1403938063876</td>\n",
       "      <td>[8, 8m, thursday, night, sets, transformers, w...</td>\n",
       "    </tr>\n",
       "  </tbody>\n",
       "</table>\n",
       "</div>"
      ],
      "text/plain": [
       "            ID                                              TITLE  \\\n",
       "42454    42455  Nvidia and IBM create GPU interconnect for fas...   \n",
       "207539  207976                  Pfizer underscores UK commitments   \n",
       "381405  381866  Rihanna Tweets, Deletes and Denies #FreePalest...   \n",
       "344294  344755  President Obama Warning About Transportation F...   \n",
       "328655  329116  $8.8M Thursday Night Sets \"Transformers\" Up Fo...   \n",
       "\n",
       "                                                      URL  \\\n",
       "42454   http://arstechnica.com/information-technology/...   \n",
       "207539  http://www.news-journal.com/business/pfizer-un...   \n",
       "381405  http://www.fashiontimes.com/articles/9813/2014...   \n",
       "344294  http://www.kaaltv.com/article/stories/S3491963...   \n",
       "328655  http://blogs.indiewire.com/boxofficeinsider/88...   \n",
       "\n",
       "                    PUBLISHER CATEGORY                          STORY  \\\n",
       "42454            Ars Technica        t  de4qTAfQbvLqgqM-pStScdQpW41YM   \n",
       "207539  Longview News-Journal        b  dueU2W_wo-ReKAMbVHq-P1l6N6SkM   \n",
       "381405          Fashion Times        e  dl2knqMR0Y_IXxMC45R48HXMkCpeM   \n",
       "344294             KAALtv.com        b  dkJvAKgVDFNVBpMQk6w7kJc0cFhvM   \n",
       "328655    Indie Wire \\(blog\\)        e  d79g5WRHWWIWfUM2SBHH6Ytl7qvKM   \n",
       "\n",
       "                    HOSTNAME      TIMESTAMP  \\\n",
       "42454        arstechnica.com  1395775635770   \n",
       "207539  www.news-journal.com  1399969280236   \n",
       "381405  www.fashiontimes.com  1405503283484   \n",
       "344294        www.kaaltv.com  1404310831381   \n",
       "328655   blogs.indiewire.com  1403938063876   \n",
       "\n",
       "                                                   tokens  \n",
       "42454   [nvidia, ibm, create, gpu, interconnect, faste...  \n",
       "207539             [pfizer, underscores, uk, commitments]  \n",
       "381405  [rihanna, tweets, deletes, denies, freepalesti...  \n",
       "344294  [president, obama, warning, transportation, fu...  \n",
       "328655  [8, 8m, thursday, night, sets, transformers, w...  "
      ]
     },
     "execution_count": 10,
     "metadata": {},
     "output_type": "execute_result"
    }
   ],
   "source": [
    "data.head()"
   ]
  },
  {
   "cell_type": "code",
   "execution_count": 11,
   "metadata": {},
   "outputs": [
    {
     "data": {
      "text/plain": [
       "e    152462\n",
       "b    115967\n",
       "t    108335\n",
       "m     45639\n",
       "Name: CATEGORY, dtype: int64"
      ]
     },
     "execution_count": 11,
     "metadata": {},
     "output_type": "execute_result"
    }
   ],
   "source": [
    "data[\"CATEGORY\"].value_counts()"
   ]
  },
  {
   "cell_type": "code",
   "execution_count": 12,
   "metadata": {},
   "outputs": [],
   "source": [
    "tokenizer = Tokenizer()\n",
    "tokenizer.fit_on_texts(data[\"TITLE\"][:40000].tolist())\n",
    "n_unique_tokens=len(tokenizer.word_index)"
   ]
  },
  {
   "cell_type": "code",
   "execution_count": 13,
   "metadata": {
    "scrolled": true
   },
   "outputs": [],
   "source": [
    "# On va créer un ensemble d'entrainement de la taille de 40000 de chaque catégorie \n",
    "# et un ensemble de test de la taille 5000 dans chaque catégorie\n",
    "\n",
    "\n",
    "n_train_per_category = 40000\n",
    "n_test_per_category = 5000\n",
    "\n",
    "\n",
    "X_train_business=data[data['CATEGORY']=='b']['tokens'][:n_train_per_category]\n",
    "Y_train_business=pd.DataFrame(data=np.reshape(np.array([1,0,0,0]*n_train_per_category),(n_train_per_category,4)))\n",
    "\n",
    "X_train_entertainment=data[data['CATEGORY']=='e']['tokens'][:n_train_per_category]\n",
    "Y_train_entertainment=pd.DataFrame(data=np.reshape(np.array([0,1,0,0]*n_train_per_category),(n_train_per_category,4)))\n",
    "\n",
    "X_train_health=data[data['CATEGORY']=='m']['tokens'][:n_train_per_category]\n",
    "Y_train_health=pd.DataFrame(data=np.reshape(np.array([0,0,1,0]*n_train_per_category),(n_train_per_category,4)))\n",
    "\n",
    "X_train_science=data[data['CATEGORY']=='t']['tokens'][:n_train_per_category]\n",
    "Y_train_science=pd.DataFrame(data=np.reshape(np.array([0,0,0,1]*n_train_per_category),(n_train_per_category,4)))\n",
    "\n",
    "X_train =pd.concat([X_train_business,X_train_entertainment,X_train_health,X_train_science])\n",
    "Y_train = pd.concat([Y_train_business,Y_train_entertainment,Y_train_health,Y_train_science])\n",
    "Y_train=Y_train.values\n",
    "\n",
    "Xtr=np.zeros(( X_train.shape[0],MAX_SEQUENCE_LENGTH, EMBEDDING_DIM))\n",
    "for i, tokens in enumerate(X_train):\n",
    "    for j,token in enumerate(tokens):\n",
    "        Xtr[i,j]=word2vec[token] if token in word2vec else np.random.rand(EMBEDDING_DIM)\n"
   ]
  },
  {
   "cell_type": "code",
   "execution_count": 14,
   "metadata": {},
   "outputs": [
    {
     "data": {
      "text/plain": [
       "(160000, 16, 300)"
      ]
     },
     "execution_count": 14,
     "metadata": {},
     "output_type": "execute_result"
    }
   ],
   "source": [
    "Xtr.shape\n"
   ]
  },
  {
   "cell_type": "code",
   "execution_count": 15,
   "metadata": {},
   "outputs": [],
   "source": [
    "X_test_business=data[data['CATEGORY']=='b']['tokens'][n_train_per_category:n_train_per_category+n_test_per_category]\n",
    "Y_test_business=pd.DataFrame(data=np.reshape(np.array([1,0,0,0]*n_test_per_category),(n_test_per_category,4)))\n",
    "\n",
    "X_test_entertainment=data[data['CATEGORY']=='e']['tokens'][n_train_per_category:n_train_per_category+n_test_per_category]\n",
    "Y_test_entertainment=pd.DataFrame(data=np.reshape(np.array([0,1,0,0]*n_test_per_category),(n_test_per_category,4)))\n",
    "\n",
    "X_test_health=data[data['CATEGORY']=='m']['tokens'][n_train_per_category:n_train_per_category+n_test_per_category]\n",
    "Y_test_health=pd.DataFrame(data=np.reshape(np.array([0,0,1,0]*n_test_per_category),(n_test_per_category,4)))\n",
    "\n",
    "X_test_science=data[data['CATEGORY']=='t']['tokens'][n_train_per_category:n_train_per_category+n_test_per_category]\n",
    "Y_test_science=pd.DataFrame(data=np.reshape(np.array([0,0,0,1]*n_test_per_category),(n_test_per_category,4)))\n",
    "\n",
    "X_test =pd.concat([X_test_business,X_test_entertainment,X_test_health,X_test_science])\n",
    "Y_test = pd.concat([Y_test_business,Y_test_entertainment,Y_test_health,Y_test_science])\n",
    "Y_test=Y_test.values\n",
    "\n",
    "Xts=np.zeros(( X_test.shape[0],MAX_SEQUENCE_LENGTH, EMBEDDING_DIM))\n",
    "for i, tokens in enumerate(X_test):\n",
    "    for j,token in enumerate(tokens):\n",
    "        Xts[i,j]=word2vec[token] if token in word2vec else np.random.rand(EMBEDDING_DIM)"
   ]
  },
  {
   "cell_type": "code",
   "execution_count": 16,
   "metadata": {},
   "outputs": [
    {
     "data": {
      "text/plain": [
       "(20000, 16, 300)"
      ]
     },
     "execution_count": 16,
     "metadata": {},
     "output_type": "execute_result"
    }
   ],
   "source": [
    "Xts.shape"
   ]
  },
  {
   "cell_type": "code",
   "execution_count": 1,
   "metadata": {
    "scrolled": true
   },
   "outputs": [],
   "source": [
    "def train_model(dropout=False, regularization=0, early_stopping=False):\n",
    "# Yoon Kim model (https://arxiv.org/abs/1408.5882)\n",
    "\n",
    "\n",
    "\n",
    "    inputs = Input(shape=(MAX_SEQUENCE_LENGTH,EMBEDDING_DIM),)\n",
    "\n",
    "\n",
    "    convolutions = []\n",
    "    filter_sizes = [3,4,5]\n",
    "\n",
    "    for filter_size in filter_sizes:\n",
    "        if regularization:\n",
    "            l_conv = Conv1D(filters=100, kernel_size=filter_size, activation='relu',kernel_regularizer=l2(regularization))(inputs)\n",
    "        else:\n",
    "            l_conv = Conv1D(filters=100, kernel_size=filter_size, activation='relu')(inputs)\n",
    "        l_pool = MaxPooling1D(pool_size=3)(l_conv)\n",
    "        convolutions.append(l_pool)\n",
    "\n",
    "    l_merge = Merge(mode='concat', concat_axis=1)(convolutions)\n",
    "\n",
    "    # Original Yoon Kim model\n",
    "    if dropout:\n",
    "        layer = Dropout(0.5)(l_merge)\n",
    "    else:\n",
    "        layer = l_merge\n",
    "\n",
    "    layer = Flatten()(layer)\n",
    "    \n",
    "    if regularization:\n",
    "        layer = Dense(128, activation='relu',kernel_regularizer=l2(regularization))(layer)\n",
    "    else:\n",
    "        layer = Dense(128, activation='relu')(layer)\n",
    "\n",
    "    if dropout:\n",
    "        layer = Dropout(0.5)(layer)\n",
    "    if regularization:\n",
    "        predictions = Dense(N_CLASS, activation='sigmoid',kernel_regularizer=l2(regularization))(layer)\n",
    "    else:\n",
    "        predictions = Dense(N_CLASS, activation='sigmoid')(layer)\n",
    "    cnn = Model(inputs, predictions)\n",
    "    \n",
    "    cnn.compile(loss='binary_crossentropy',\n",
    "                  optimizer='adam',\n",
    "                  metrics=['acc'])\n",
    "    Ytr= Y_train\n",
    "    cnn.summary()\n",
    "    if early_stopping:\n",
    "        earlyStopping=keras.callbacks.EarlyStopping(monitor='val_acc', patience=7, verbose=1, mode='auto')\n",
    "        cnn.fit(Xtr, Ytr, batch_size=128, epochs=50, verbose=1,validation_split=0.2,shuffle=True,callbacks=[earlyStopping])\n",
    "    else:\n",
    "        cnn.fit(Xtr, Ytr, batch_size=128, epochs=50, verbose=1,validation_split=0.2,shuffle=True)\n",
    "    \n",
    "    return cnn"
   ]
  },
  {
   "cell_type": "code",
   "execution_count": 52,
   "metadata": {
    "scrolled": true
   },
   "outputs": [
    {
     "name": "stderr",
     "output_type": "stream",
     "text": [
      "C:\\Users\\Mathieu\\Anaconda3\\envs\\deeplearning\\lib\\site-packages\\ipykernel_launcher.py:20: UserWarning: The `Merge` layer is deprecated and will be removed after 08/2017. Use instead layers from `keras.layers.merge`, e.g. `add`, `concatenate`, etc.\n"
     ]
    },
    {
     "name": "stdout",
     "output_type": "stream",
     "text": [
      "__________________________________________________________________________________________________\n",
      "Layer (type)                    Output Shape         Param #     Connected to                     \n",
      "==================================================================================================\n",
      "input_7 (InputLayer)            (None, 16, 300)      0                                            \n",
      "__________________________________________________________________________________________________\n",
      "conv1d_19 (Conv1D)              (None, 14, 100)      90100       input_7[0][0]                    \n",
      "__________________________________________________________________________________________________\n",
      "conv1d_20 (Conv1D)              (None, 13, 100)      120100      input_7[0][0]                    \n",
      "__________________________________________________________________________________________________\n",
      "conv1d_21 (Conv1D)              (None, 12, 100)      150100      input_7[0][0]                    \n",
      "__________________________________________________________________________________________________\n",
      "max_pooling1d_19 (MaxPooling1D) (None, 4, 100)       0           conv1d_19[0][0]                  \n",
      "__________________________________________________________________________________________________\n",
      "max_pooling1d_20 (MaxPooling1D) (None, 4, 100)       0           conv1d_20[0][0]                  \n",
      "__________________________________________________________________________________________________\n",
      "max_pooling1d_21 (MaxPooling1D) (None, 4, 100)       0           conv1d_21[0][0]                  \n",
      "__________________________________________________________________________________________________\n",
      "merge_7 (Merge)                 (None, 12, 100)      0           max_pooling1d_19[0][0]           \n",
      "                                                                 max_pooling1d_20[0][0]           \n",
      "                                                                 max_pooling1d_21[0][0]           \n",
      "__________________________________________________________________________________________________\n",
      "dropout_11 (Dropout)            (None, 12, 100)      0           merge_7[0][0]                    \n",
      "__________________________________________________________________________________________________\n",
      "flatten_7 (Flatten)             (None, 1200)         0           dropout_11[0][0]                 \n",
      "__________________________________________________________________________________________________\n",
      "dense_13 (Dense)                (None, 128)          153728      flatten_7[0][0]                  \n",
      "__________________________________________________________________________________________________\n",
      "dropout_12 (Dropout)            (None, 128)          0           dense_13[0][0]                   \n",
      "__________________________________________________________________________________________________\n",
      "dense_14 (Dense)                (None, 4)            516         dropout_12[0][0]                 \n",
      "==================================================================================================\n",
      "Total params: 514,544\n",
      "Trainable params: 514,544\n",
      "Non-trainable params: 0\n",
      "__________________________________________________________________________________________________\n",
      "Train on 128000 samples, validate on 32000 samples\n",
      "Epoch 1/50\n",
      "128000/128000 [==============================] - 195s 2ms/step - loss: 0.6124 - acc: 0.8914 - val_loss: 1.0388 - val_acc: 0.6214\n",
      "Epoch 2/50\n",
      "128000/128000 [==============================] - 147s 1ms/step - loss: 0.4435 - acc: 0.8981 - val_loss: 1.0947 - val_acc: 0.6046\n",
      "Epoch 3/50\n",
      "128000/128000 [==============================] - 144s 1ms/step - loss: 0.4375 - acc: 0.8980 - val_loss: 1.0517 - val_acc: 0.6254\n",
      "Epoch 4/50\n",
      "128000/128000 [==============================] - 138s 1ms/step - loss: 0.4348 - acc: 0.8980 - val_loss: 1.0942 - val_acc: 0.6228\n",
      "Epoch 5/50\n",
      "128000/128000 [==============================] - 132s 1ms/step - loss: 0.4336 - acc: 0.8976 - val_loss: 1.0732 - val_acc: 0.6511\n",
      "Epoch 6/50\n",
      "128000/128000 [==============================] - 131s 1ms/step - loss: 0.4330 - acc: 0.8971 - val_loss: 1.0733 - val_acc: 0.6241\n",
      "Epoch 7/50\n",
      "128000/128000 [==============================] - 120s 940us/step - loss: 0.4318 - acc: 0.8977 - val_loss: 1.1210 - val_acc: 0.6214\n",
      "Epoch 8/50\n",
      "128000/128000 [==============================] - 116s 909us/step - loss: 0.4317 - acc: 0.8974 - val_loss: 1.1055 - val_acc: 0.6253\n",
      "Epoch 9/50\n",
      "128000/128000 [==============================] - 117s 915us/step - loss: 0.4305 - acc: 0.8978 - val_loss: 1.1112 - val_acc: 0.6435\n",
      "Epoch 10/50\n",
      "128000/128000 [==============================] - 137s 1ms/step - loss: 0.4312 - acc: 0.8975 - val_loss: 1.1294 - val_acc: 0.6289\n",
      "Epoch 11/50\n",
      "128000/128000 [==============================] - 142s 1ms/step - loss: 0.4303 - acc: 0.8978 - val_loss: 1.1239 - val_acc: 0.6322\n",
      "Epoch 12/50\n",
      "128000/128000 [==============================] - 147s 1ms/step - loss: 0.4306 - acc: 0.8976 - val_loss: 1.1121 - val_acc: 0.6474\n",
      "Epoch 00012: early stopping\n"
     ]
    }
   ],
   "source": [
    "cnn_0=train_model()\n",
    "cnn_1=train_model(dropout=True)\n",
    "cnn_2=train_model(dropout=True, regularization=0.01)\n",
    "cnn_3=train_model(dropout=True, regularization=0.01, early_stopping=True)\n",
    "cnn_4=train_model(dropout=True,  early_stopping=True)\n",
    "cnn_5=train_model(dropout=True, regularization=0.0001, early_stopping=True)\n",
    "cnn_6=train_model(dropout=True, regularization=0.001, early_stopping=True)"
   ]
  },
  {
   "cell_type": "code",
   "execution_count": 53,
   "metadata": {},
   "outputs": [],
   "source": [
    "cnn_0.save(\"cnn_0.h5\")\n",
    "cnn_1.save(\"cnn_1.h5\")\n",
    "cnn_2.save(\"cnn_2.h5\")\n",
    "cnn_3.save(\"cnn_3.h5\")\n",
    "cnn_4.save(\"cnn_4.h5\")\n",
    "cnn_5.save(\"cnn_5.h5\")\n",
    "cnn_6.save(\"cnn_6.h5\")"
   ]
  },
  {
   "cell_type": "code",
   "execution_count": 54,
   "metadata": {},
   "outputs": [
    {
     "data": {
      "image/png": "[encoded data removed]",
      "text/plain": [
       "<matplotlib.figure.Figure at 0x2113ef9f6a0>"
      ]
     },
     "metadata": {},
     "output_type": "display_data"
    },
    {
     "data": {
      "image/png": "[encoded data removed]",
      "text/plain": [
       "<matplotlib.figure.Figure at 0x2113ef52320>"
      ]
     },
     "metadata": {},
     "output_type": "display_data"
    }
   ],
   "source": [
    "for cnn,i in zip([ cnn_0, cnn_1, cnn_2, cnn_3,cnn_4,cnn_5,cnn_6],range(7)):\n",
    "\n",
    "    plt.plot(cnn.history.history['acc'], 'o')\n",
    "    plt.plot(cnn.history.history['val_acc'],'o')\n",
    "    plt.title(\"train & validation accuracy \")\n",
    "    plt.legend()\n",
    "    plt.savefig('fig_acc_'+str(i)+'.png')\n",
    "    plt.show()\n",
    "\n",
    "\n",
    "    plt.plot(cnn.history.history['loss'],'o')\n",
    "    plt.plot(cnn.history.history['val_loss'],'o')\n",
    "    plt.title(\"train & validation loss\")\n",
    "    plt.legend()\n",
    "    plt.savefig('fig_loss_'+str(i)+'.png')\n",
    "    plt.show()"
   ]
  },
  {
   "cell_type": "code",
   "execution_count": 27,
   "metadata": {},
   "outputs": [
    {
     "name": "stdout",
     "output_type": "stream",
     "text": [
      "20000/20000 [==============================] - 8s 378us/step\n",
      "Précision : 93.84%\n",
      "20000/20000 [==============================] - 7s 373us/step\n",
      "Précision : 94.93%\n",
      "20000/20000 [==============================] - 8s 389us/step\n",
      "Précision : 84.97%\n",
      "20000/20000 [==============================] - 8s 390us/step\n",
      "Précision : 84.76%\n",
      "20000/20000 [==============================] - 8s 375us/step\n",
      "Précision : 93.83%\n"
     ]
    }
   ],
   "source": [
    "[loss_value, accuracy] = cnn_0.evaluate(Xts, Y_test)\n",
    "print(f\"Précision : {accuracy:0.2%}\")\n",
    "[loss_value, accuracy] = cnn_1.evaluate(Xts, Y_test)\n",
    "print(f\"Précision : {accuracy:0.2%}\")\n",
    "[loss_value, accuracy] = cnn_2.evaluate(Xts, Y_test)\n",
    "print(f\"Précision : {accuracy:0.2%}\")\n",
    "[loss_value, accuracy] = cnn_3.evaluate(Xts, Y_test)\n",
    "print(f\"Précision : {accuracy:0.2%}\")\n",
    "[loss_value, accuracy] = cnn_4.evaluate(Xts, Y_test)\n",
    "print(f\"Précision : {accuracy:0.2%}\")\n",
    "[loss_value, accuracy] = cnn_5.evaluate(Xts, Y_test)\n",
    "print(f\"Précision : {accuracy:0.2%}\")\n",
    "[loss_value, accuracy] = cnn_6.evaluate(Xts, Y_test)\n",
    "print(f\"Précision : {accuracy:0.2%}\")"
   ]
  },
  {
   "cell_type": "code",
   "execution_count": 39,
   "metadata": {},
   "outputs": [
    {
     "name": "stderr",
     "output_type": "stream",
     "text": [
      "C:\\Users\\Mathieu\\Anaconda3\\envs\\deeplearning\\lib\\site-packages\\keras\\engine\\topology.py:1253: UserWarning: The `Merge` layer is deprecated and will be removed after 08/2017. Use instead layers from `keras.layers.merge`, e.g. `add`, `concatenate`, etc.\n",
      "  return cls(**config)\n"
     ]
    }
   ],
   "source": [
    "# Pour ouvrir des modèles enregistrés\n",
    "\n",
    "from keras.models import load_model\n",
    "cnn_0=load_model(\"cnn_0.h5\")"
   ]
  },
  {
   "cell_type": "code",
   "execution_count": 41,
   "metadata": {},
   "outputs": [
    {
     "name": "stdout",
     "output_type": "stream",
     "text": [
      "20000/20000 [==============================] - 11s 540us/step\n"
     ]
    },
    {
     "data": {
      "text/plain": [
       "[0.3132396464926834, 0.9521625]"
      ]
     },
     "execution_count": 41,
     "metadata": {},
     "output_type": "execute_result"
    }
   ],
   "source": [
    "cnn_0.evaluate(Xts, Y_test)"
   ]
  },
  {
   "cell_type": "code",
   "execution_count": 44,
   "metadata": {},
   "outputs": [
    {
     "name": "stderr",
     "output_type": "stream",
     "text": [
      "C:\\Users\\Mathieu\\Anaconda3\\envs\\deeplearning\\lib\\site-packages\\keras\\engine\\topology.py:1253: UserWarning: The `Merge` layer is deprecated and will be removed after 08/2017. Use instead layers from `keras.layers.merge`, e.g. `add`, `concatenate`, etc.\n",
      "  return cls(**config)\n"
     ]
    },
    {
     "name": "stdout",
     "output_type": "stream",
     "text": [
      "20000/20000 [==============================] - 13s 665us/step\n"
     ]
    },
    {
     "data": {
      "text/plain": [
       "[0.1466130001506077, 0.959575]"
      ]
     },
     "execution_count": 44,
     "metadata": {},
     "output_type": "execute_result"
    }
   ],
   "source": [
    "cnn_1=load_model(\"cnn_1.h5\")\n",
    "cnn_1.evaluate(Xts, Y_test)"
   ]
  },
  {
   "cell_type": "code",
   "execution_count": 47,
   "metadata": {},
   "outputs": [
    {
     "name": "stderr",
     "output_type": "stream",
     "text": [
      "C:\\Users\\Mathieu\\Anaconda3\\envs\\deeplearning\\lib\\site-packages\\keras\\engine\\topology.py:1253: UserWarning: The `Merge` layer is deprecated and will be removed after 08/2017. Use instead layers from `keras.layers.merge`, e.g. `add`, `concatenate`, etc.\n",
      "  return cls(**config)\n"
     ]
    },
    {
     "name": "stdout",
     "output_type": "stream",
     "text": [
      "20000/20000 [==============================] - 10s 484us/step\n"
     ]
    },
    {
     "data": {
      "text/plain": [
       "[0.5553258490085602, 0.8492625]"
      ]
     },
     "execution_count": 47,
     "metadata": {},
     "output_type": "execute_result"
    }
   ],
   "source": [
    "cnn_2=load_model(\"cnn_2.h5\")\n",
    "cnn_2.evaluate(Xts, Y_test)"
   ]
  },
  {
   "cell_type": "code",
   "execution_count": 55,
   "metadata": {},
   "outputs": [
    {
     "name": "stdout",
     "output_type": "stream",
     "text": [
      "20000/20000 [==============================] - 12s 586us/step\n"
     ]
    },
    {
     "data": {
      "text/plain": [
       "[0.5580807138442994, 0.8543]"
      ]
     },
     "execution_count": 55,
     "metadata": {},
     "output_type": "execute_result"
    }
   ],
   "source": [
    "#cnn_3=load_model(\"cnn_3.h5\")\n",
    "cnn_3.evaluate(Xts, Y_test)"
   ]
  },
  {
   "cell_type": "code",
   "execution_count": null,
   "metadata": {},
   "outputs": [],
   "source": []
  }
 ],
 "metadata": {
  "kernelspec": {
   "display_name": "Python 3",
   "language": "python",
   "name": "python3"
  },
  "language_info": {
   "codemirror_mode": {
    "name": "ipython",
    "version": 3
   },
   "file_extension": ".py",
   "mimetype": "text/x-python",
   "name": "python",
   "nbconvert_exporter": "python",
   "pygments_lexer": "ipython3",
   "version": "3.6.4"
  }
 },
 "nbformat": 4,
 "nbformat_minor": 2
}
